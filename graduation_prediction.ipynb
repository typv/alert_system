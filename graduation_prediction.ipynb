{
 "cells": [
  {
   "cell_type": "code",
   "execution_count": 14,
   "metadata": {},
   "outputs": [],
   "source": [
    "import pandas as pd\n",
    "import numpy as np\n",
    "import matplotlib.pyplot as plt\n",
    "import seaborn as sns\n",
    "\n",
    "from sklearn.model_selection import train_test_split, cross_val_score\n",
    "from sklearn.preprocessing import LabelEncoder, StandardScaler\n",
    "from sklearn.feature_selection import chi2, RFE\n",
    "from sklearn.linear_model import LogisticRegression\n",
    "from sklearn.ensemble import RandomForestClassifier\n",
    "from sklearn.metrics import accuracy_score, precision_score, recall_score, f1_score, confusion_matrix\n"
   ]
  },
  {
   "cell_type": "code",
   "execution_count": 15,
   "metadata": {},
   "outputs": [
    {
     "name": "stdout",
     "output_type": "stream",
     "text": [
      "Dữ liệu ban đầu:\n",
      "       ID      Nganh Gioi tinh  Doi tuong Khu vuc Khoi TS  Diem TS  Hoc Ky  \\\n",
      "0  A00001  Ngân hàng       Nam          0       3     A00     26.0       5   \n",
      "1  A00001  Ngân hàng       Nam          0       3     A00     26.0       6   \n",
      "2  A00001  Ngân hàng       Nam          0       3     A00     26.0       7   \n",
      "3  A00001  Ngân hàng       Nam          0       3     A00     26.0       8   \n",
      "4  A00002  Ngân hàng       Nam          1       1     A00     30.0       5   \n",
      "\n",
      "   DKHK  TBHK   TCTL  TBTL XLHV  Diem TN                  KET QUA  \n",
      "0    19  3.50   89.0  2.89  NaN     2.98   Tốt nghiệp Khá - 4 năm  \n",
      "1    18  2.67  107.0  2.85  NaN     2.98   Tốt nghiệp Khá - 4 năm  \n",
      "2    18  3.67  125.0  2.98  NaN     2.98   Tốt nghiệp Khá - 4 năm  \n",
      "3    16  3.00  141.0  2.98  NaN     2.98   Tốt nghiệp Khá - 4 năm  \n",
      "4    19  3.17   89.0  3.11  NaN     3.23  Tốt nghiệp Giỏi - 4 năm  \n"
     ]
    }
   ],
   "source": [
    "df = pd.read_csv('raw_data.csv')\n",
    "print(\"Dữ liệu ban đầu:\")\n",
    "print(df.head())"
   ]
  },
  {
   "cell_type": "code",
   "execution_count": 16,
   "metadata": {},
   "outputs": [
    {
     "name": "stdout",
     "output_type": "stream",
     "text": [
      "\n",
      "Thông tin dữ liệu:\n",
      "<class 'pandas.core.frame.DataFrame'>\n",
      "RangeIndex: 198374 entries, 0 to 198373\n",
      "Data columns (total 15 columns):\n",
      " #   Column     Non-Null Count   Dtype  \n",
      "---  ------     --------------   -----  \n",
      " 0   ID         198374 non-null  object \n",
      " 1   Nganh      198374 non-null  object \n",
      " 2   Gioi tinh  198374 non-null  object \n",
      " 3   Doi tuong  198374 non-null  int64  \n",
      " 4   Khu vuc    198374 non-null  object \n",
      " 5   Khoi TS    198374 non-null  object \n",
      " 6   Diem TS    198229 non-null  float64\n",
      " 7   Hoc Ky     198374 non-null  int64  \n",
      " 8   DKHK       198374 non-null  int64  \n",
      " 9   TBHK       198374 non-null  float64\n",
      " 10  TCTL       198183 non-null  float64\n",
      " 11  TBTL       198374 non-null  float64\n",
      " 12  XLHV       15453 non-null   object \n",
      " 13  Diem TN    198255 non-null  float64\n",
      " 14  KET QUA    198255 non-null  object \n",
      "dtypes: float64(5), int64(3), object(7)\n",
      "memory usage: 22.7+ MB\n",
      "None\n",
      "\n",
      "Số lượng giá trị thiếu theo cột:\n",
      "ID                0\n",
      "Nganh             0\n",
      "Gioi tinh         0\n",
      "Doi tuong         0\n",
      "Khu vuc           0\n",
      "Khoi TS           0\n",
      "Diem TS         145\n",
      "Hoc Ky            0\n",
      "DKHK              0\n",
      "TBHK              0\n",
      "TCTL            191\n",
      "TBTL              0\n",
      "XLHV         182921\n",
      "Diem TN         119\n",
      "KET QUA         119\n",
      "dtype: int64\n"
     ]
    }
   ],
   "source": [
    "print(\"\\nThông tin dữ liệu:\")\n",
    "print(df.info())\n",
    "print(\"\\nSố lượng giá trị thiếu theo cột:\")\n",
    "print(df.isnull().sum())"
   ]
  },
  {
   "cell_type": "code",
   "execution_count": 17,
   "metadata": {},
   "outputs": [],
   "source": [
    "import re\n",
    "\n",
    "def label_target(x):\n",
    "    if not isinstance(x, str) or \"Tốt nghiệp\" not in x:\n",
    "        return 0\n",
    "    match = re.search(r'(\\d+,\\d+|\\d+)\\s*năm', x)\n",
    "    if match:\n",
    "        years = float(match.group(1).replace(',', '.'))\n",
    "        return 1 if years == 4.0 else 0\n",
    "    else:\n",
    "        return 0\n",
    "\n",
    "df['target'] = df['KET QUA'].apply(label_target)\n"
   ]
  },
  {
   "cell_type": "code",
   "execution_count": 18,
   "metadata": {},
   "outputs": [
    {
     "name": "stdout",
     "output_type": "stream",
     "text": [
      "\n",
      "Dữ liệu sau khi tiền xử lý:\n",
      "       ID   Diem TS    Hoc Ky      DKHK      TBHK      TCTL      TBTL XLHV  \\\n",
      "0  A00001  1.786793  0.086646  0.251934  1.024862  0.275946  0.449943  NaN   \n",
      "1  A00001  1.786793  0.479386  0.095738  0.158309  0.703191  0.379144  NaN   \n",
      "2  A00001  1.786793  0.872126  0.095738  1.202349  1.130436  0.609241  NaN   \n",
      "3  A00001  1.786793  1.264867 -0.216655  0.502842  1.510209  0.609241  NaN   \n",
      "4  A00002  3.441126  0.086646  0.251934  0.680329  0.275946  0.839338  NaN   \n",
      "\n",
      "    Diem TN                  KET QUA  ...  Doi tuong_6  Doi tuong_7  \\\n",
      "0  0.469105   Tốt nghiệp Khá - 4 năm  ...        False        False   \n",
      "1  0.469105   Tốt nghiệp Khá - 4 năm  ...        False        False   \n",
      "2  0.469105   Tốt nghiệp Khá - 4 năm  ...        False        False   \n",
      "3  0.469105   Tốt nghiệp Khá - 4 năm  ...        False        False   \n",
      "4  0.725510  Tốt nghiệp Giỏi - 4 năm  ...        False        False   \n",
      "\n",
      "   Khu vuc_2  Khu vuc_2NT  Khu vuc_3  Khoi TS_A01  Khoi TS_C00  Khoi TS_D01  \\\n",
      "0      False        False       True        False        False        False   \n",
      "1      False        False       True        False        False        False   \n",
      "2      False        False       True        False        False        False   \n",
      "3      False        False       True        False        False        False   \n",
      "4      False        False      False        False        False        False   \n",
      "\n",
      "   Khoi TS_D07  Khoi TS_D09  \n",
      "0        False        False  \n",
      "1        False        False  \n",
      "2        False        False  \n",
      "3        False        False  \n",
      "4        False        False  \n",
      "\n",
      "[5 rows x 37 columns]\n"
     ]
    }
   ],
   "source": [
    "categorical_cols = ['Nganh', 'Gioi tinh', 'Doi tuong', 'Khu vuc', 'Khoi TS']\n",
    "df[categorical_cols] = df[categorical_cols].astype(str)\n",
    "\n",
    "df_encoded = pd.get_dummies(df, columns=categorical_cols, drop_first=True)\n",
    "\n",
    "num_cols = ['Diem TS', 'Hoc Ky', 'DKHK', 'TBHK', 'TCTL', 'TBTL', 'Diem TN']\n",
    "scaler = StandardScaler()\n",
    "df_encoded[num_cols] = scaler.fit_transform(df_encoded[num_cols])\n",
    "\n",
    "print(\"\\nDữ liệu sau khi tiền xử lý:\")\n",
    "print(df_encoded.head())"
   ]
  },
  {
   "cell_type": "code",
   "execution_count": 19,
   "metadata": {},
   "outputs": [],
   "source": [
    "X = df_encoded.drop(['ID', 'KET QUA', 'target', 'XLHV'], axis=1)\n",
    "y = df_encoded['target']"
   ]
  },
  {
   "cell_type": "code",
   "execution_count": 21,
   "metadata": {},
   "outputs": [
    {
     "name": "stdout",
     "output_type": "stream",
     "text": [
      "Diem TS                         145\n",
      "Hoc Ky                            0\n",
      "DKHK                              0\n",
      "TBHK                              0\n",
      "TCTL                            191\n",
      "TBTL                              0\n",
      "Diem TN                         119\n",
      "Nganh_Kinh doanh chứng khoán      0\n",
      "Nganh_Kinh doanh quốc tế          0\n",
      "Nganh_Kế toán doanh nghiệp        0\n",
      "Nganh_Luật kinh tế                0\n",
      "Nganh_Ngân hàng                   0\n",
      "Nganh_Ngôn ngữ Anh                0\n",
      "Nganh_Quản trị doanh nghiệp       0\n",
      "Nganh_Quản trị kinh doanh         0\n",
      "Nganh_Quản trị marketing          0\n",
      "Nganh_Thanh toán quốc tế          0\n",
      "Nganh_Tài chính                   0\n",
      "Gioi tinh_Nữ                      0\n",
      "Doi tuong_1                       0\n",
      "Doi tuong_3                       0\n",
      "Doi tuong_4                       0\n",
      "Doi tuong_5                       0\n",
      "Doi tuong_6                       0\n",
      "Doi tuong_7                       0\n",
      "Khu vuc_2                         0\n",
      "Khu vuc_2NT                       0\n",
      "Khu vuc_3                         0\n",
      "Khoi TS_A01                       0\n",
      "Khoi TS_C00                       0\n",
      "Khoi TS_D01                       0\n",
      "Khoi TS_D07                       0\n",
      "Khoi TS_D09                       0\n",
      "dtype: int64\n",
      "\n",
      "Đặc trưng được chọn bởi RFE:\n",
      "Index(['Hoc Ky', 'TCTL', 'TBTL', 'Diem TN', 'Nganh_Quản trị doanh nghiệp',\n",
      "       'Nganh_Quản trị marketing', 'Nganh_Tài chính', 'Doi tuong_4',\n",
      "       'Doi tuong_5', 'Khoi TS_D07'],\n",
      "      dtype='object')\n"
     ]
    }
   ],
   "source": [
    "from sklearn.impute import SimpleImputer\n",
    "\n",
    "print(X.isnull().sum())\n",
    "\n",
    "imputer = SimpleImputer(strategy='mean')\n",
    "X_imputed = pd.DataFrame(imputer.fit_transform(X), columns=X.columns)\n",
    "\n",
    "model_lr = LogisticRegression(max_iter=1000)\n",
    "rfe = RFE(model_lr, n_features_to_select=10)\n",
    "rfe.fit(X_imputed, y)\n",
    "selected_features = X.columns[rfe.support_]\n",
    "print(\"\\nĐặc trưng được chọn bởi RFE:\")\n",
    "print(selected_features)\n"
   ]
  }
 ],
 "metadata": {
  "kernelspec": {
   "display_name": "Python 3",
   "language": "python",
   "name": "python3"
  },
  "language_info": {
   "codemirror_mode": {
    "name": "ipython",
    "version": 3
   },
   "file_extension": ".py",
   "mimetype": "text/x-python",
   "name": "python",
   "nbconvert_exporter": "python",
   "pygments_lexer": "ipython3",
   "version": "3.9.6"
  }
 },
 "nbformat": 4,
 "nbformat_minor": 2
}
